{
 "cells": [
  {
   "cell_type": "code",
   "execution_count": 3,
   "id": "aggressive-worse",
   "metadata": {},
   "outputs": [
    {
     "name": "stdout",
     "output_type": "stream",
     "text": [
      "(88, 22)\n"
     ]
    }
   ],
   "source": [
    "import pandas as pd\n",
    "\n",
    "df_full = pd.read_csv('Data Workshop 1 Apr 6 2023.csv')\n",
    "#make dataset of all liquid fill records\n",
    "df_liq = df_full[df_full['DryFillOpRequired']== 0] \n",
    "#make dataset that only includes failures\n",
    "df_liq_fail = df_liq[(df_liq['InspectStationWeighCheckPassFail']==2 )| (df_liq['InspectStationVisionPassFail']==2)]\n",
    "#split failures into fillstation 3 and 5\n",
    "df_liq3 = df_liq_fail[df_liq_fail['WetFillStation3OpRequired']==1]\n",
    "#make dataframe with only needed columns\n",
    "df_liq3 = df_liq3.filter(['WetFillStation3VolumeDispTank1','WetFillStation3VolumeDispTank2','WetFillStation3VolumeDispTank3','WetFillStation3VolumeDispTank4','WetFillStation3VolumeReqTank1','WetFillStation3VolumeReqTank2','WetFillStation3VolumeReqTank3','WetFillStation3VolumeReqTank4','InspectStationVisionVialRGBBlue','InspectStationVisionVialRGBBluLower','InspectStationVisionVialRGBBluUpper','InspectStationVisionVialRGBGre','InspectStationVisionVialRGBGreLower','InspectStationVisionVialRGBGreUpper','InspectStationVisionVialRGBRed','InspectStationVisionVialRGBRedLower','InspectStationVisionVialRGBRedUpper','InspectStationVisionPassFail','VialEmptyWeight','InspectStationWeighCheckData','InspectStationWeighCheckPassFail','InspectStationWeighCheckLowerLimit','InspectStationWeighCheckUpperLimit'],axis=1)                   \n",
    "print (df_liq3.shape)"
   ]
  },
  {
   "cell_type": "code",
   "execution_count": 2,
   "id": "mysterious-excitement",
   "metadata": {},
   "outputs": [
    {
     "name": "stdout",
     "output_type": "stream",
     "text": [
      "(88, 22)\n"
     ]
    }
   ],
   "source": [
    "\n"
   ]
  }
 ],
 "metadata": {
  "kernelspec": {
   "display_name": "Python 3",
   "language": "python",
   "name": "python3"
  },
  "language_info": {
   "codemirror_mode": {
    "name": "ipython",
    "version": 3
   },
   "file_extension": ".py",
   "mimetype": "text/x-python",
   "name": "python",
   "nbconvert_exporter": "python",
   "pygments_lexer": "ipython3",
   "version": "3.7.9"
  }
 },
 "nbformat": 4,
 "nbformat_minor": 5
}
