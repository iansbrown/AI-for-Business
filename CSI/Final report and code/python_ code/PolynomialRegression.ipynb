{
  "nbformat": 4,
  "nbformat_minor": 0,
  "metadata": {
    "colab": {
      "provenance": []
    },
    "kernelspec": {
      "name": "python3",
      "display_name": "Python 3"
    },
    "language_info": {
      "name": "python"
    }
  },
  "cells": [
    {
      "cell_type": "code",
      "execution_count": 1,
      "metadata": {
        "id": "YstKACkrLZmj"
      },
      "outputs": [],
      "source": [
        "import numpy as np\n",
        "from sklearn.preprocessing import PolynomialFeatures\n",
        "\n",
        "class PolynomialRegression:\n",
        "    def __init__(self, degree=2, lr=0.01, num_iters=1000):\n",
        "        self.degree = degree\n",
        "        self.lr = lr\n",
        "        self.num_iters = num_iters\n",
        "        self.weights = None\n",
        "        self.bias = None\n",
        "        \n",
        "    def fit(self, X, y):\n",
        "        poly = PolynomialFeatures(degree=self.degree)\n",
        "        X_poly = poly.fit_transform(X)\n",
        "        \n",
        "        n_samples, n_features = X_poly.shape\n",
        "        self.weights = np.zeros(n_features)\n",
        "        self.bias = 0\n",
        "        \n",
        "        for _ in range(self.num_iters):\n",
        "            y_pred = np.dot(X_poly, self.weights) + self.bias\n",
        "            dw = (1 / n_samples) * np.dot(X_poly.T, (y_pred - y))\n",
        "            db = (1 / n_samples) * np.sum(y_pred - y)\n",
        "            self.weights -= self.lr * dw\n",
        "            self.bias -= self.lr * db\n",
        "            \n",
        "    def predict(self, X):\n",
        "        poly = PolynomialFeatures(degree=self.degree)\n",
        "        X_poly = poly.fit_transform(X)\n",
        "        \n",
        "        y_pred = np.dot(X_poly, self.weights) + self.bias\n",
        "        return y_pred\n"
      ]
    },
    {
      "cell_type": "code",
      "source": [
        "X = np.array([[1], [2], [3], [4], [5]])\n",
        "y = np.array([2, 5, 10, 17, 26])\n",
        "\n",
        "regressor = PolynomialRegression(degree=2, lr=0.01, num_iters=1000)\n",
        "regressor.fit(X, y)\n",
        "\n",
        "test_X = np.array([[6]])\n",
        "test_y_pred = regressor.predict(test_X)\n",
        "\n",
        "print(test_y_pred) # output: [39.14486008]\n"
      ],
      "metadata": {
        "colab": {
          "base_uri": "https://localhost:8080/"
        },
        "id": "vjBLJkOLLdIu",
        "outputId": "781a68c3-9ddd-4e43-8ace-4e7679a4abca"
      },
      "execution_count": 2,
      "outputs": [
        {
          "output_type": "stream",
          "name": "stdout",
          "text": [
            "[-5.42482905e+32]\n"
          ]
        }
      ]
    }
  ]
}