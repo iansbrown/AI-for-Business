{
  "nbformat": 4,
  "nbformat_minor": 0,
  "metadata": {
    "colab": {
      "provenance": []
    },
    "kernelspec": {
      "name": "python3",
      "display_name": "Python 3"
    },
    "language_info": {
      "name": "python"
    }
  },
  "cells": [
    {
      "cell_type": "code",
      "execution_count": 1,
      "metadata": {
        "id": "Rvl649doMO6J"
      },
      "outputs": [],
      "source": [
        "import numpy as np\n",
        "\n",
        "class LogisticRegression:\n",
        "    def __init__(self, lr=0.01, num_iters=1000):\n",
        "        self.lr = lr\n",
        "        self.num_iters = num_iters\n",
        "        self.weights = None\n",
        "        self.bias = None\n",
        "        \n",
        "    def sigmoid(self, z):\n",
        "        return 1 / (1 + np.exp(-z))\n",
        "        \n",
        "    def fit(self, X, y):\n",
        "        n_samples, n_features = X.shape\n",
        "        self.weights = np.zeros(n_features)\n",
        "        self.bias = 0\n",
        "        \n",
        "        for _ in range(self.num_iters):\n",
        "            z = np.dot(X, self.weights) + self.bias\n",
        "            y_pred = self.sigmoid(z)\n",
        "            dw = (1 / n_samples) * np.dot(X.T, (y_pred - y))\n",
        "            db = (1 / n_samples) * np.sum(y_pred - y)\n",
        "            self.weights -= self.lr * dw\n",
        "            self.bias -= self.lr * db\n",
        "            \n",
        "    def predict(self, X):\n",
        "        z = np.dot(X, self.weights) + self.bias\n",
        "        y_pred = self.sigmoid(z)\n",
        "        y_pred_cls = [1 if i > 0.5 else 0 for i in y_pred]\n",
        "        return np.array(y_pred_cls)\n"
      ]
    },
    {
      "cell_type": "code",
      "source": [
        "X = np.array([[1, 2], [2, 3], [3, 4], [4, 5], [5, 6]])\n",
        "y = np.array([0, 0, 1, 1, 1])\n",
        "\n",
        "classifier = LogisticRegression(lr=0.01, num_iters=1000)\n",
        "classifier.fit(X, y)\n",
        "\n",
        "test_X = np.array([[6, 7]])\n",
        "test_y_pred = classifier.predict(test_X)\n",
        "\n",
        "print(test_y_pred) # output: [1]\n"
      ],
      "metadata": {
        "colab": {
          "base_uri": "https://localhost:8080/"
        },
        "id": "10dPbXIJMTaD",
        "outputId": "2de85342-e926-4464-a92d-1eb46f94f6dd"
      },
      "execution_count": 2,
      "outputs": [
        {
          "output_type": "stream",
          "name": "stdout",
          "text": [
            "[1]\n"
          ]
        }
      ]
    }
  ]
}