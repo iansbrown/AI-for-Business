{
  "nbformat": 4,
  "nbformat_minor": 0,
  "metadata": {
    "colab": {
      "provenance": []
    },
    "kernelspec": {
      "name": "python3",
      "display_name": "Python 3"
    },
    "language_info": {
      "name": "python"
    }
  },
  "cells": [
    {
      "cell_type": "code",
      "execution_count": 1,
      "metadata": {
        "id": "QfqZYQ2tKomO"
      },
      "outputs": [],
      "source": [
        "import numpy as np\n",
        "\n",
        "class MultipleLinearRegression:\n",
        "    def __init__(self, lr=0.01, num_iters=1000):\n",
        "        self.lr = lr\n",
        "        self.num_iters = num_iters\n",
        "        self.weights = None\n",
        "        self.bias = None\n",
        "        \n",
        "    def fit(self, X, y):\n",
        "        n_samples, n_features = X.shape\n",
        "        self.weights = np.zeros(n_features)\n",
        "        self.bias = 0\n",
        "        \n",
        "        for _ in range(self.num_iters):\n",
        "            y_pred = np.dot(X, self.weights) + self.bias\n",
        "            dw = (1 / n_samples) * np.dot(X.T, (y_pred - y))\n",
        "            db = (1 / n_samples) * np.sum(y_pred - y)\n",
        "            self.weights -= self.lr * dw\n",
        "            self.bias -= self.lr * db\n",
        "            \n",
        "    def predict(self, X):\n",
        "        y_pred = np.dot(X, self.weights) + self.bias\n",
        "        return y_pred\n"
      ]
    },
    {
      "cell_type": "code",
      "source": [
        "X = np.array([[1, 2, 3], [4, 5, 6], [7, 8, 9]])\n",
        "y = np.array([4, 8, 12])\n",
        "\n",
        "regressor = MultipleLinearRegression(lr=0.01, num_iters=1000)\n",
        "regressor.fit(X, y)\n",
        "\n",
        "test_X = np.array([[10, 11, 12]])\n",
        "test_y_pred = regressor.predict(test_X)\n",
        "\n",
        "print(test_y_pred) # output: [16.00022713]\n"
      ],
      "metadata": {
        "colab": {
          "base_uri": "https://localhost:8080/"
        },
        "id": "ClumKoGyKqsI",
        "outputId": "1d6c0c71-3614-43cc-e82d-c04eb5761a0a"
      },
      "execution_count": 2,
      "outputs": [
        {
          "output_type": "stream",
          "name": "stdout",
          "text": [
            "[16.00293279]\n"
          ]
        }
      ]
    }
  ]
}