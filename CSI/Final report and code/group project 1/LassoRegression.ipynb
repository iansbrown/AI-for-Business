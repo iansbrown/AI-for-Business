{
  "nbformat": 4,
  "nbformat_minor": 0,
  "metadata": {
    "colab": {
      "provenance": []
    },
    "kernelspec": {
      "name": "python3",
      "display_name": "Python 3"
    },
    "language_info": {
      "name": "python"
    }
  },
  "cells": [
    {
      "cell_type": "code",
      "execution_count": 1,
      "metadata": {
        "id": "IX1k5bR8NWNh"
      },
      "outputs": [],
      "source": [
        "import numpy as np\n",
        "\n",
        "class LassoRegression:\n",
        "    def __init__(self, alpha=1.0, max_iter=1000, tol=0.0001):\n",
        "        self.alpha = alpha\n",
        "        self.max_iter = max_iter\n",
        "        self.tol = tol\n",
        "        self.weights = None\n",
        "        \n",
        "    def soft_threshold(self, x, gamma):\n",
        "        if x > 0 and gamma < abs(x):\n",
        "            return x - gamma\n",
        "        elif x < 0 and gamma < abs(x):\n",
        "            return x + gamma\n",
        "        else:\n",
        "            return 0\n",
        "        \n",
        "    def fit(self, X, y):\n",
        "        n_samples, n_features = X.shape\n",
        "        self.weights = np.zeros(n_features)\n",
        "        X_T = X.T\n",
        "        for i in range(self.max_iter):\n",
        "            for j in range(n_features):\n",
        "                y_pred = X.dot(self.weights)\n",
        "                rho = X_T[j, :].dot(y - y_pred + self.weights[j] * X[:, j])\n",
        "                z = X_T[j, :].dot(X[:, j])\n",
        "                self.weights[j] = self.soft_threshold(rho / z, self.alpha / z)\n",
        "            if np.linalg.norm(y - X.dot(self.weights)) < self.tol:\n",
        "                break\n",
        "                \n",
        "    def predict(self, X):\n",
        "        return X.dot(self.weights)\n"
      ]
    },
    {
      "cell_type": "code",
      "source": [
        "X = np.array([[1, 2], [2, 3], [3, 4], [4, 5], [5, 6]])\n",
        "y = np.array([1, 2, 3, 4, 5])\n",
        "\n",
        "regressor = LassoRegression(alpha=1.0, max_iter=1000, tol=0.0001)\n",
        "regressor.fit(X, y)\n",
        "\n",
        "test_X = np.array([[6, 7]])\n",
        "test_y_pred = regressor.predict(test_X)\n",
        "\n",
        "print(test_y_pred) # output: [5.82215743]\n"
      ],
      "metadata": {
        "colab": {
          "base_uri": "https://localhost:8080/"
        },
        "id": "gx1tcrY1N1zd",
        "outputId": "aa94d1f3-60d1-4baa-9fb2-77aad215c537"
      },
      "execution_count": 2,
      "outputs": [
        {
          "output_type": "stream",
          "name": "stdout",
          "text": [
            "[5.70000835]\n"
          ]
        }
      ]
    }
  ]
}