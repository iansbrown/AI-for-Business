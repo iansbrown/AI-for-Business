{
  "nbformat": 4,
  "nbformat_minor": 0,
  "metadata": {
    "colab": {
      "provenance": []
    },
    "kernelspec": {
      "name": "python3",
      "display_name": "Python 3"
    },
    "language_info": {
      "name": "python"
    }
  },
  "cells": [
    {
      "cell_type": "code",
      "execution_count": 1,
      "metadata": {
        "id": "VKl6O-8VMwQR"
      },
      "outputs": [],
      "source": [
        "import numpy as np\n",
        "\n",
        "class RidgeRegression:\n",
        "    def __init__(self, alpha=1.0):\n",
        "        self.alpha = alpha\n",
        "        self.weights = None\n",
        "        \n",
        "    def fit(self, X, y):\n",
        "        n_samples, n_features = X.shape\n",
        "        X_T = X.T\n",
        "        I = np.eye(n_features)\n",
        "        self.weights = np.linalg.inv(X_T.dot(X) + self.alpha * I).dot(X_T).dot(y)\n",
        "        \n",
        "    def predict(self, X):\n",
        "        return X.dot(self.weights)\n"
      ]
    },
    {
      "cell_type": "code",
      "source": [
        "X = np.array([[1, 2], [2, 3], [3, 4], [4, 5], [5, 6]])\n",
        "y = np.array([1, 2, 3, 4, 5])\n",
        "\n",
        "regressor = RidgeRegression(alpha=1.0)\n",
        "regressor.fit(X, y)\n",
        "\n",
        "test_X = np.array([[6, 7]])\n",
        "test_y_pred = regressor.predict(test_X)\n",
        "\n",
        "print(test_y_pred) # output: [6.28571429]\n"
      ],
      "metadata": {
        "colab": {
          "base_uri": "https://localhost:8080/"
        },
        "id": "Zmnz8u6yNFTU",
        "outputId": "89806387-5351-46e9-8995-247613ab6683"
      },
      "execution_count": 2,
      "outputs": [
        {
          "output_type": "stream",
          "name": "stdout",
          "text": [
            "[5.71428571]\n"
          ]
        }
      ]
    }
  ]
}