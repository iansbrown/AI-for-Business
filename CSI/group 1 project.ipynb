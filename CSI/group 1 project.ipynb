{
 "cells": [
  {
   "cell_type": "code",
   "execution_count": 293,
   "id": "aggressive-worse",
   "metadata": {},
   "outputs": [],
   "source": [
    "import pandas as pd\n",
    "import numpy as np\n",
    "import matplotlib\n",
    "import matplotlib.pyplot as plt\n",
    "import sklearn\n",
    "from sklearn.model_selection import train_test_split\n",
    "from sklearn.linear_model import LogisticRegression\n",
    "from sklearn.metrics import confusion_matrix, ConfusionMatrixDisplay\n",
    "from sklearn.metrics import roc_curve\n",
    "from sklearn.metrics import accuracy_score, precision_score, recall_score, roc_auc_score\n",
    "\n",
    "\n",
    "\n",
    "df_full = pd.read_csv('Data Workshop 1 Apr 6 2023.csv')\n",
    "#make dataset of all liquid fill records\n",
    "df_liq = df_full[df_full['DryFillOpRequired']== 0] \n",
    "#make dataset that only includes failures\n",
    "df_liq_fail = df_liq[(df_liq['InspectStationWeighCheckPassFail']==2 )| (df_liq['InspectStationVisionPassFail']==2)]\n",
    "#split failures into fillstation 3 \n",
    "df_liq3 = df_liq_fail[(df_liq_fail['WetFillStation3OpRequired']==1)]\n",
    "#split into data that has a weight failure\n",
    "df_w = df_liq3[df_liq3['InspectStationWeighCheckPassFail']==2]\n",
    "\n"
   ]
  },
  {
   "cell_type": "code",
   "execution_count": 294,
   "id": "mysterious-excitement",
   "metadata": {},
   "outputs": [],
   "source": [
    "#filtor out the data columns we want\n",
    "df_liq3 = df_w.filter(['WetFillStation3VolumeDispTank1','WetFillStation3VolumeDispTank2','WetFillStation3VolumeDispTank3','WetFillStation3VolumeDispTank4','WetFillStation3VolumeReqTank1','WetFillStation3VolumeReqTank2','WetFillStation3VolumeReqTank3','WetFillStation3VolumeReqTank4','InspectStationVisionVialRGBBlue','InspectStationVisionVialRGBBluLower','InspectStationVisionVialRGBBluUpper','InspectStationVisionVialRGBGre','InspectStationVisionVialRGBGreLower','InspectStationVisionVialRGBGreUpper','InspectStationVisionVialRGBRed','InspectStationVisionVialRGBRedLower','InspectStationVisionVialRGBRedUpper','InspectStationVisionPassFail','VialEmptyWeight','InspectStationWeighCheckData','InspectStationWeighCheckPassFail','InspectStationWeighCheckLowerLimit','InspectStationWeighCheckUpperLimit'],axis=1)\n",
    "#copy recipe 3 failures that did not complete vision inspection\n",
    "df_nid = df_liq3[df_liq3.InspectStationVisionPassFail == 0]\n",
    "#separate data that did not pass visual inspection from data\n",
    "df_liq3 = df_liq3[df_liq3.InspectStationVisionPassFail != 0]\n"
   ]
  },
  {
   "cell_type": "code",
   "execution_count": 295,
   "id": "simplified-option",
   "metadata": {},
   "outputs": [
    {
     "name": "stdout",
     "output_type": "stream",
     "text": [
      "Training Set: 12 rows\n",
      "Test Set: 3 rows\n"
     ]
    }
   ],
   "source": [
    "#split the training and test data\n",
    "y = df_liq3['InspectStationVisionPassFail'].values\n",
    "y=sklearn.preprocessing.binarize(y.reshape(-1,1) , threshold=1.1, copy=False)# make y binary \n",
    "x = df_liq3.drop(['InspectStationVisionPassFail'],axis = 1)\n",
    "X_train, X_test, y_train, y_test = train_test_split(x, y, test_size=0.20, random_state=0,stratify=y)\n",
    "print ('Training Set: %d rows\\nTest Set: %d rows' % (X_train.shape[0], X_test.shape[0]))"
   ]
  },
  {
   "cell_type": "code",
   "execution_count": 296,
   "id": "premium-region",
   "metadata": {},
   "outputs": [
    {
     "name": "stdout",
     "output_type": "stream",
     "text": [
      "LogisticRegression()\n"
     ]
    },
    {
     "name": "stderr",
     "output_type": "stream",
     "text": [
      "/Users/ianbrown/anaconda/lib/python3.7/site-packages/sklearn/utils/validation.py:993: DataConversionWarning: A column-vector y was passed when a 1d array was expected. Please change the shape of y to (n_samples, ), for example using ravel().\n",
      "  y = column_or_1d(y, warn=True)\n"
     ]
    }
   ],
   "source": [
    "# Train the LR model\n",
    "\n",
    "# Fit a linear regression model on the training set\n",
    "modelLR = LogisticRegression().fit(X_train, y_train)\n",
    "print (modelLR)\n",
    "\n",
    "#make predictions\n",
    "predictionsLR = modelLR.predict(X_test)\n",
    "np.set_printoptions(suppress=True)"
   ]
  },
  {
   "cell_type": "code",
   "execution_count": 297,
   "id": "important-population",
   "metadata": {},
   "outputs": [
    {
     "name": "stdout",
     "output_type": "stream",
     "text": [
      "[1 1 0]\n",
      "Confusion matrix for the test set:\n"
     ]
    },
    {
     "data": {
      "image/png": "[encoded data removed]",
      "text/plain": [
       "<Figure size 432x288 with 2 Axes>"
      ]
     },
     "metadata": {
      "needs_background": "light"
     },
     "output_type": "display_data"
    }
   ],
   "source": [
    "print (predictionsLR)\n",
    "\n",
    "cm = confusion_matrix(y_test, predictionsLR, normalize=None)\n",
    "print(\"Confusion matrix for the test set:\")\n",
    "\n",
    "disp = ConfusionMatrixDisplay(confusion_matrix=cm) \n",
    "\n",
    "disp.plot()\n",
    "plt.savefig('confusion_matrix.jpg')\n",
    "plt.show()"
   ]
  },
  {
   "cell_type": "code",
   "execution_count": 298,
   "id": "hairy-fireplace",
   "metadata": {},
   "outputs": [
    {
     "data": {
      "image/png": "[encoded data removed]",
      "text/plain": [
       "<Figure size 432x432 with 1 Axes>"
      ]
     },
     "metadata": {
      "needs_background": "light"
     },
     "output_type": "display_data"
    },
    {
     "name": "stdout",
     "output_type": "stream",
     "text": [
      "Accuracy:  1.0\n",
      "Overall Precision: 1.0\n",
      "Overall Recall: 1.0\n",
      "AUC: 1.0\n"
     ]
    }
   ],
   "source": [
    "# calculate ROC curve\n",
    "fpr, tpr, thresholds = roc_curve(y_test, predictionsLR)\n",
    "\n",
    "# plot ROC curve\n",
    "fig = plt.figure(figsize=(6, 6))\n",
    "# Plot the diagonal 50% line\n",
    "plt.plot([0, 1], [0, 1], 'k--')\n",
    "# Plot the FPR and TPR achieved by our model\n",
    "plt.plot(fpr, tpr)\n",
    "plt.xlabel('False Positive Rate')\n",
    "plt.ylabel('True Positive Rate')\n",
    "plt.title('ROC Curve')\n",
    "plt.savefig('ROC_plot.jpg')\n",
    "plt.show()\n",
    "\n",
    "\n",
    "print('Accuracy: ', accuracy_score(y_test, predictionsLR))\n",
    "print(\"Overall Precision:\",precision_score(y_test, predictionsLR))\n",
    "print(\"Overall Recall:\",recall_score(y_test, predictionsLR))\n",
    "\n",
    "auc = roc_auc_score(y_test,predictionsLR)\n",
    "print('AUC: ' + str(auc))"
   ]
  },
  {
   "cell_type": "code",
   "execution_count": null,
   "id": "practical-being",
   "metadata": {},
   "outputs": [],
   "source": []
  }
 ],
 "metadata": {
  "kernelspec": {
   "display_name": "Python 3",
   "language": "python",
   "name": "python3"
  },
  "language_info": {
   "codemirror_mode": {
    "name": "ipython",
    "version": 3
   },
   "file_extension": ".py",
   "mimetype": "text/x-python",
   "name": "python",
   "nbconvert_exporter": "python",
   "pygments_lexer": "ipython3",
   "version": "3.7.9"
  }
 },
 "nbformat": 4,
 "nbformat_minor": 5
}
