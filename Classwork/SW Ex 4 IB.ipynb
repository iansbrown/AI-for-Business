{
 "cells": [
  {
   "cell_type": "code",
   "execution_count": 8,
   "id": "ready-expense",
   "metadata": {},
   "outputs": [],
   "source": [
    "import tensorflow as tf\n",
    "import numpy as np\n",
    "import keras\n",
    "from tensorflow.keras.layers import Conv2D, MaxPooling2D, Dropout, Flatten, Dense\n",
    "from keras.models import Sequential\n",
    "from keras.utils import to_categorical\n",
    "\n",
    "import matplotlib.pyplot as pl\n",
    "\n",
    "(x_train, y_train), (x_test, y_test) = tf.keras.datasets.cifar10.load_data()\n",
    "\n"
   ]
  },
  {
   "cell_type": "code",
   "execution_count": 9,
   "id": "capable-footwear",
   "metadata": {},
   "outputs": [
    {
     "name": "stdout",
     "output_type": "stream",
     "text": [
      "x_train row 0 (50000, 32, 32, 3) [[[ 59  62  63]\n",
      "  [ 43  46  45]\n",
      "  [ 50  48  43]\n",
      "  ...\n",
      "  [158 132 108]\n",
      "  [152 125 102]\n",
      "  [148 124 103]]\n",
      "\n",
      " [[ 16  20  20]\n",
      "  [  0   0   0]\n",
      "  [ 18   8   0]\n",
      "  ...\n",
      "  [123  88  55]\n",
      "  [119  83  50]\n",
      "  [122  87  57]]\n",
      "\n",
      " [[ 25  24  21]\n",
      "  [ 16   7   0]\n",
      "  [ 49  27   8]\n",
      "  ...\n",
      "  [118  84  50]\n",
      "  [120  84  50]\n",
      "  [109  73  42]]\n",
      "\n",
      " ...\n",
      "\n",
      " [[208 170  96]\n",
      "  [201 153  34]\n",
      "  [198 161  26]\n",
      "  ...\n",
      "  [160 133  70]\n",
      "  [ 56  31   7]\n",
      "  [ 53  34  20]]\n",
      "\n",
      " [[180 139  96]\n",
      "  [173 123  42]\n",
      "  [186 144  30]\n",
      "  ...\n",
      "  [184 148  94]\n",
      "  [ 97  62  34]\n",
      "  [ 83  53  34]]\n",
      "\n",
      " [[177 144 116]\n",
      "  [168 129  94]\n",
      "  [179 142  87]\n",
      "  ...\n",
      "  [216 184 140]\n",
      "  [151 118  84]\n",
      "  [123  92  72]]]\n",
      "y_train row 0 [6]\n",
      "3072\n",
      "[[[0.23137255 0.24313725 0.24705882]\n",
      "  [0.16862745 0.18039216 0.17647059]\n",
      "  [0.19607843 0.18823529 0.16862745]\n",
      "  ...\n",
      "  [0.61960784 0.51764706 0.42352941]\n",
      "  [0.59607843 0.49019608 0.4       ]\n",
      "  [0.58039216 0.48627451 0.40392157]]\n",
      "\n",
      " [[0.0627451  0.07843137 0.07843137]\n",
      "  [0.         0.         0.        ]\n",
      "  [0.07058824 0.03137255 0.        ]\n",
      "  ...\n",
      "  [0.48235294 0.34509804 0.21568627]\n",
      "  [0.46666667 0.3254902  0.19607843]\n",
      "  [0.47843137 0.34117647 0.22352941]]\n",
      "\n",
      " [[0.09803922 0.09411765 0.08235294]\n",
      "  [0.0627451  0.02745098 0.        ]\n",
      "  [0.19215686 0.10588235 0.03137255]\n",
      "  ...\n",
      "  [0.4627451  0.32941176 0.19607843]\n",
      "  [0.47058824 0.32941176 0.19607843]\n",
      "  [0.42745098 0.28627451 0.16470588]]\n",
      "\n",
      " ...\n",
      "\n",
      " [[0.81568627 0.66666667 0.37647059]\n",
      "  [0.78823529 0.6        0.13333333]\n",
      "  [0.77647059 0.63137255 0.10196078]\n",
      "  ...\n",
      "  [0.62745098 0.52156863 0.2745098 ]\n",
      "  [0.21960784 0.12156863 0.02745098]\n",
      "  [0.20784314 0.13333333 0.07843137]]\n",
      "\n",
      " [[0.70588235 0.54509804 0.37647059]\n",
      "  [0.67843137 0.48235294 0.16470588]\n",
      "  [0.72941176 0.56470588 0.11764706]\n",
      "  ...\n",
      "  [0.72156863 0.58039216 0.36862745]\n",
      "  [0.38039216 0.24313725 0.13333333]\n",
      "  [0.3254902  0.20784314 0.13333333]]\n",
      "\n",
      " [[0.69411765 0.56470588 0.45490196]\n",
      "  [0.65882353 0.50588235 0.36862745]\n",
      "  [0.70196078 0.55686275 0.34117647]\n",
      "  ...\n",
      "  [0.84705882 0.72156863 0.54901961]\n",
      "  [0.59215686 0.4627451  0.32941176]\n",
      "  [0.48235294 0.36078431 0.28235294]]]\n",
      "10\n"
     ]
    }
   ],
   "source": [
    "print (\"x_train row 0\",x_train.shape,x_train[0])\n",
    "print (\"y_train row 0\",y_train[0])\n",
    "num_pixels = x_train.shape[1] * x_train.shape[2]*x_train.shape[3]\n",
    "#x_train = x_train.reshape(x_train.shape[0], num_pixels).astype('float32')\n",
    "#x_test = x_test.reshape(x_test.shape[0], num_pixels).astype('float32')\n",
    "x_train=x_train/255\n",
    "x_test=x_test/255\n",
    "print(num_pixels)\n",
    "print (x_train[0])\n",
    "y_train = to_categorical(y_train)\n",
    "y_test = to_categorical(y_test)\n",
    "num_classes = y_test.shape[1]\n",
    "print(num_classes)\n"
   ]
  },
  {
   "cell_type": "code",
   "execution_count": 129,
   "id": "racial-stereo",
   "metadata": {},
   "outputs": [],
   "source": [
    "\n",
    "def classification_model():\n",
    "  model = Sequential()\n",
    "  model.add(Conv2D(128, (5, 5), input_shape=(32,32,3),padding=\"same\" ,activation='relu'))\n",
    "  model.add(MaxPooling2D(pool_size=(2,2)))\n",
    "  model.add(Conv2D(64, (5, 5),padding=\"same\", activation='relu'))\n",
    "  model.add(MaxPooling2D(pool_size=(2, 2)))\n",
    "  model.add(Conv2D(32, (5, 5),padding=\"same\", activation='relu'))\n",
    "  model.add(MaxPooling2D(pool_size=(2, 2)))\n",
    "  #model.add(Dense(num_pixels, activation='relu', input_shape=(num_pixels,))),\n",
    "  model.add(Flatten())\n",
    "  #model.add(Dense(100, activation='relu'))\n",
    "  #model.add(Dense(50, activation='relu'))\n",
    "  model.add(Dense(10, activation='softmax'))\n",
    "  model.compile(optimizer='adam', loss='categorical_crossentropy', metrics=['accuracy'])\n",
    "  return model"
   ]
  },
  {
   "cell_type": "code",
   "execution_count": 147,
   "id": "serious-spouse",
   "metadata": {},
   "outputs": [
    {
     "name": "stdout",
     "output_type": "stream",
     "text": [
      "Model: \"sequential_46\"\n",
      "_________________________________________________________________\n",
      " Layer (type)                Output Shape              Param #   \n",
      "=================================================================\n",
      " conv2d_99 (Conv2D)          (None, 32, 32, 128)       3584      \n",
      "                                                                 \n",
      " max_pooling2d_98 (MaxPoolin  (None, 16, 16, 128)      0         \n",
      " g2D)                                                            \n",
      "                                                                 \n",
      " conv2d_100 (Conv2D)         (None, 16, 16, 64)        204864    \n",
      "                                                                 \n",
      " max_pooling2d_99 (MaxPoolin  (None, 8, 8, 64)         0         \n",
      " g2D)                                                            \n",
      "                                                                 \n",
      " conv2d_101 (Conv2D)         (None, 8, 8, 32)          51232     \n",
      "                                                                 \n",
      " max_pooling2d_100 (MaxPooli  (None, 4, 4, 32)         0         \n",
      " ng2D)                                                           \n",
      "                                                                 \n",
      " flatten_41 (Flatten)        (None, 512)               0         \n",
      "                                                                 \n",
      " dense_92 (Dense)            (None, 100)               51300     \n",
      "                                                                 \n",
      " dense_93 (Dense)            (None, 10)                1010      \n",
      "                                                                 \n",
      "=================================================================\n",
      "Total params: 311,990\n",
      "Trainable params: 311,990\n",
      "Non-trainable params: 0\n",
      "_________________________________________________________________\n",
      "Epoch 1/20\n",
      "1563/1563 - 232s - loss: 1.4989 - accuracy: 0.4554 - val_loss: 1.1937 - val_accuracy: 0.5723 - 232s/epoch - 148ms/step\n",
      "Epoch 2/20\n",
      "1563/1563 - 222s - loss: 1.1136 - accuracy: 0.6051 - val_loss: 1.0630 - val_accuracy: 0.6258 - 222s/epoch - 142ms/step\n",
      "Epoch 3/20\n",
      "1563/1563 - 228s - loss: 0.9565 - accuracy: 0.6610 - val_loss: 0.9410 - val_accuracy: 0.6679 - 228s/epoch - 146ms/step\n",
      "Epoch 4/20\n",
      "1563/1563 - 235s - loss: 0.8551 - accuracy: 0.6988 - val_loss: 0.9294 - val_accuracy: 0.6711 - 235s/epoch - 151ms/step\n",
      "Epoch 5/20\n",
      "1563/1563 - 227s - loss: 0.7826 - accuracy: 0.7230 - val_loss: 0.9087 - val_accuracy: 0.6821 - 227s/epoch - 145ms/step\n",
      "Epoch 6/20\n",
      "1563/1563 - 229s - loss: 0.7258 - accuracy: 0.7449 - val_loss: 0.9322 - val_accuracy: 0.6769 - 229s/epoch - 147ms/step\n",
      "Epoch 7/20\n",
      "1563/1563 - 226s - loss: 0.6701 - accuracy: 0.7655 - val_loss: 0.9055 - val_accuracy: 0.6965 - 226s/epoch - 145ms/step\n",
      "Epoch 8/20\n",
      "1563/1563 - 231s - loss: 0.6252 - accuracy: 0.7783 - val_loss: 0.8988 - val_accuracy: 0.6917 - 231s/epoch - 148ms/step\n",
      "Epoch 9/20\n",
      "1563/1563 - 222s - loss: 0.5834 - accuracy: 0.7950 - val_loss: 0.8766 - val_accuracy: 0.7078 - 222s/epoch - 142ms/step\n",
      "Epoch 10/20\n",
      "1563/1563 - 225s - loss: 0.5419 - accuracy: 0.8072 - val_loss: 0.8853 - val_accuracy: 0.7084 - 225s/epoch - 144ms/step\n",
      "Epoch 11/20\n",
      "1563/1563 - 234s - loss: 0.5088 - accuracy: 0.8201 - val_loss: 0.9275 - val_accuracy: 0.7059 - 234s/epoch - 150ms/step\n",
      "Epoch 12/20\n",
      "1563/1563 - 227s - loss: 0.4785 - accuracy: 0.8295 - val_loss: 0.9146 - val_accuracy: 0.7153 - 227s/epoch - 145ms/step\n",
      "Epoch 13/20\n",
      "1563/1563 - 223s - loss: 0.4390 - accuracy: 0.8442 - val_loss: 0.9706 - val_accuracy: 0.7135 - 223s/epoch - 143ms/step\n",
      "Epoch 14/20\n",
      "1563/1563 - 232s - loss: 0.4093 - accuracy: 0.8544 - val_loss: 1.0264 - val_accuracy: 0.7025 - 232s/epoch - 148ms/step\n",
      "Epoch 15/20\n",
      "1563/1563 - 228s - loss: 0.3864 - accuracy: 0.8622 - val_loss: 1.0480 - val_accuracy: 0.7041 - 228s/epoch - 146ms/step\n",
      "Epoch 16/20\n",
      "1563/1563 - 229s - loss: 0.3567 - accuracy: 0.8715 - val_loss: 1.0827 - val_accuracy: 0.7055 - 229s/epoch - 147ms/step\n",
      "Epoch 17/20\n",
      "1563/1563 - 231s - loss: 0.3327 - accuracy: 0.8815 - val_loss: 1.1660 - val_accuracy: 0.7020 - 231s/epoch - 148ms/step\n",
      "Epoch 18/20\n",
      "1563/1563 - 218s - loss: 0.3256 - accuracy: 0.8834 - val_loss: 1.2319 - val_accuracy: 0.6840 - 218s/epoch - 140ms/step\n",
      "Epoch 19/20\n",
      "1563/1563 - 219s - loss: 0.2975 - accuracy: 0.8926 - val_loss: 1.2414 - val_accuracy: 0.7059 - 219s/epoch - 140ms/step\n",
      "Epoch 20/20\n",
      "1563/1563 - 232s - loss: 0.2780 - accuracy: 0.8998 - val_loss: 1.2816 - val_accuracy: 0.6993 - 232s/epoch - 149ms/step\n"
     ]
    },
    {
     "data": {
      "text/plain": [
       "<keras.callbacks.History at 0x7fcca4b880d0>"
      ]
     },
     "execution_count": 147,
     "metadata": {},
     "output_type": "execute_result"
    }
   ],
   "source": [
    "model1 = classification_model()\n",
    "model1.summary()\n",
    "model1.fit(x_train, y_train, validation_data=(x_test, y_test),batch_size=32, epochs=20, verbose=2)\n"
   ]
  },
  {
   "cell_type": "code",
   "execution_count": 149,
   "id": "needed-scanning",
   "metadata": {},
   "outputs": [
    {
     "name": "stdout",
     "output_type": "stream",
     "text": [
      "Model Accuracy: 0.6992999911308289 \n",
      " Error: 0.30070000886917114\n"
     ]
    }
   ],
   "source": [
    "scores = model1.evaluate(x_test, y_test, verbose=0)\n",
    "print('Model Accuracy: {} \\n Error: {}'.format(scores[1], 1 - scores[1]))"
   ]
  },
  {
   "cell_type": "code",
   "execution_count": 156,
   "id": "north-throw",
   "metadata": {},
   "outputs": [
    {
     "name": "stdout",
     "output_type": "stream",
     "text": [
      "Model: \"sequential_47\"\n",
      "_________________________________________________________________\n",
      " Layer (type)                Output Shape              Param #   \n",
      "=================================================================\n",
      " conv2d_102 (Conv2D)         (None, 32, 32, 128)       3584      \n",
      "                                                                 \n",
      " max_pooling2d_101 (MaxPooli  (None, 16, 16, 128)      0         \n",
      " ng2D)                                                           \n",
      "                                                                 \n",
      " conv2d_103 (Conv2D)         (None, 16, 16, 64)        204864    \n",
      "                                                                 \n",
      " max_pooling2d_102 (MaxPooli  (None, 8, 8, 64)         0         \n",
      " ng2D)                                                           \n",
      "                                                                 \n",
      " conv2d_104 (Conv2D)         (None, 8, 8, 32)          51232     \n",
      "                                                                 \n",
      " max_pooling2d_103 (MaxPooli  (None, 4, 4, 32)         0         \n",
      " ng2D)                                                           \n",
      "                                                                 \n",
      " flatten_42 (Flatten)        (None, 512)               0         \n",
      "                                                                 \n",
      " dense_94 (Dense)            (None, 100)               51300     \n",
      "                                                                 \n",
      " dense_95 (Dense)            (None, 10)                1010      \n",
      "                                                                 \n",
      "=================================================================\n",
      "Total params: 311,990\n",
      "Trainable params: 311,990\n",
      "Non-trainable params: 0\n",
      "_________________________________________________________________\n",
      "Epoch 1/30\n",
      "1563/1563 - 251s - loss: 1.4869 - accuracy: 0.4583 - val_loss: 1.2300 - val_accuracy: 0.5564 - 251s/epoch - 161ms/step\n",
      "Epoch 2/30\n",
      "1563/1563 - 260s - loss: 1.0859 - accuracy: 0.6147 - val_loss: 0.9993 - val_accuracy: 0.6493 - 260s/epoch - 167ms/step\n",
      "Epoch 3/30\n",
      "1563/1563 - 266s - loss: 0.9241 - accuracy: 0.6736 - val_loss: 0.9616 - val_accuracy: 0.6591 - 266s/epoch - 170ms/step\n",
      "Epoch 4/30\n",
      "1563/1563 - 247s - loss: 0.8247 - accuracy: 0.7101 - val_loss: 0.8650 - val_accuracy: 0.6984 - 247s/epoch - 158ms/step\n",
      "Epoch 5/30\n",
      "1563/1563 - 256s - loss: 0.7549 - accuracy: 0.7349 - val_loss: 0.8292 - val_accuracy: 0.7107 - 256s/epoch - 164ms/step\n",
      "Epoch 6/30\n",
      "1563/1563 - 247s - loss: 0.6955 - accuracy: 0.7569 - val_loss: 0.8580 - val_accuracy: 0.7097 - 247s/epoch - 158ms/step\n",
      "Epoch 7/30\n",
      "1563/1563 - 234s - loss: 0.6458 - accuracy: 0.7727 - val_loss: 0.8196 - val_accuracy: 0.7277 - 234s/epoch - 150ms/step\n",
      "Epoch 8/30\n",
      "1563/1563 - 251s - loss: 0.6052 - accuracy: 0.7834 - val_loss: 0.8342 - val_accuracy: 0.7220 - 251s/epoch - 161ms/step\n",
      "Epoch 9/30\n",
      "1563/1563 - 249s - loss: 0.5553 - accuracy: 0.8039 - val_loss: 0.9279 - val_accuracy: 0.6979 - 249s/epoch - 159ms/step\n",
      "Epoch 10/30\n",
      "1563/1563 - 232s - loss: 0.5195 - accuracy: 0.8146 - val_loss: 0.8750 - val_accuracy: 0.7205 - 232s/epoch - 149ms/step\n",
      "Epoch 11/30\n",
      "1563/1563 - 224s - loss: 0.4879 - accuracy: 0.8254 - val_loss: 0.9101 - val_accuracy: 0.7148 - 224s/epoch - 143ms/step\n",
      "Epoch 12/30\n",
      "1563/1563 - 237s - loss: 0.4532 - accuracy: 0.8375 - val_loss: 0.8801 - val_accuracy: 0.7224 - 237s/epoch - 151ms/step\n",
      "Epoch 13/30\n",
      "1563/1563 - 239s - loss: 0.4260 - accuracy: 0.8476 - val_loss: 0.9334 - val_accuracy: 0.7239 - 239s/epoch - 153ms/step\n",
      "Epoch 14/30\n",
      "1563/1563 - 237s - loss: 0.3976 - accuracy: 0.8566 - val_loss: 0.9346 - val_accuracy: 0.7211 - 237s/epoch - 152ms/step\n",
      "Epoch 15/30\n",
      "1563/1563 - 230s - loss: 0.3718 - accuracy: 0.8676 - val_loss: 1.0178 - val_accuracy: 0.7167 - 230s/epoch - 147ms/step\n",
      "Epoch 16/30\n",
      "1563/1563 - 227s - loss: 0.3452 - accuracy: 0.8768 - val_loss: 1.0586 - val_accuracy: 0.7148 - 227s/epoch - 146ms/step\n",
      "Epoch 17/30\n",
      "1563/1563 - 223s - loss: 0.3294 - accuracy: 0.8837 - val_loss: 1.0922 - val_accuracy: 0.7225 - 223s/epoch - 143ms/step\n",
      "Epoch 18/30\n",
      "1563/1563 - 224s - loss: 0.3072 - accuracy: 0.8893 - val_loss: 1.1592 - val_accuracy: 0.7103 - 224s/epoch - 143ms/step\n",
      "Epoch 19/30\n",
      "1563/1563 - 221s - loss: 0.2941 - accuracy: 0.8947 - val_loss: 1.1410 - val_accuracy: 0.7167 - 221s/epoch - 141ms/step\n",
      "Epoch 20/30\n",
      "1563/1563 - 221s - loss: 0.2777 - accuracy: 0.9006 - val_loss: 1.2132 - val_accuracy: 0.7141 - 221s/epoch - 141ms/step\n",
      "Epoch 21/30\n",
      "1563/1563 - 228s - loss: 0.2569 - accuracy: 0.9079 - val_loss: 1.2736 - val_accuracy: 0.7134 - 228s/epoch - 146ms/step\n",
      "Epoch 22/30\n",
      "1563/1563 - 227s - loss: 0.2499 - accuracy: 0.9096 - val_loss: 1.2700 - val_accuracy: 0.7169 - 227s/epoch - 145ms/step\n",
      "Epoch 23/30\n",
      "1563/1563 - 244s - loss: 0.2361 - accuracy: 0.9162 - val_loss: 1.3542 - val_accuracy: 0.7139 - 244s/epoch - 156ms/step\n",
      "Epoch 24/30\n",
      "1563/1563 - 230s - loss: 0.2275 - accuracy: 0.9191 - val_loss: 1.3094 - val_accuracy: 0.7177 - 230s/epoch - 147ms/step\n",
      "Epoch 25/30\n",
      "1563/1563 - 228s - loss: 0.2176 - accuracy: 0.9228 - val_loss: 1.4874 - val_accuracy: 0.7133 - 228s/epoch - 146ms/step\n",
      "Epoch 26/30\n",
      "1563/1563 - 233s - loss: 0.2059 - accuracy: 0.9252 - val_loss: 1.4209 - val_accuracy: 0.7088 - 233s/epoch - 149ms/step\n",
      "Epoch 27/30\n",
      "1563/1563 - 234s - loss: 0.2036 - accuracy: 0.9260 - val_loss: 1.4496 - val_accuracy: 0.7095 - 234s/epoch - 150ms/step\n",
      "Epoch 28/30\n",
      "1563/1563 - 238s - loss: 0.1908 - accuracy: 0.9323 - val_loss: 1.5209 - val_accuracy: 0.7201 - 238s/epoch - 152ms/step\n",
      "Epoch 29/30\n",
      "1563/1563 - 235s - loss: 0.1881 - accuracy: 0.9330 - val_loss: 1.6282 - val_accuracy: 0.7110 - 235s/epoch - 150ms/step\n",
      "Epoch 30/30\n",
      "1563/1563 - 231s - loss: 0.1737 - accuracy: 0.9377 - val_loss: 1.7029 - val_accuracy: 0.7088 - 231s/epoch - 148ms/step\n"
     ]
    },
    {
     "data": {
      "text/plain": [
       "<keras.callbacks.History at 0x7fcca458ef90>"
      ]
     },
     "execution_count": 156,
     "metadata": {},
     "output_type": "execute_result"
    }
   ],
   "source": [
    "model2 = classification_model()\n",
    "model2.summary()\n",
    "model2.fit(x_train, y_train, validation_data=(x_test, y_test),batch_size=32, epochs=30, verbose=2)"
   ]
  },
  {
   "cell_type": "code",
   "execution_count": 158,
   "id": "registered-equation",
   "metadata": {},
   "outputs": [
    {
     "name": "stdout",
     "output_type": "stream",
     "text": [
      "Model Accuracy: 0.7088000178337097 \n",
      " Error: 0.2911999821662903\n"
     ]
    }
   ],
   "source": [
    "scores = model2.evaluate(x_test, y_test, verbose=0)\n",
    "print('Model Accuracy: {} \\n Error: {}'.format(scores[1], 1 - scores[1]))"
   ]
  },
  {
   "cell_type": "markdown",
   "id": "expanded-kitty",
   "metadata": {},
   "source": [
    "The accuracy is much better with the CNN.  I am acheiving training accuracies of ~93.3% and test accuracies over 70.8%  my best result was 72.4% test accuracy but I don't have that showing because the way I got that was using an additional dense layer which was not part of the excercise. I believe I could achieve this with just CNN layers but the time it takes to run is prohibitive as it took over an hour to get the above result. Even with fewer convolution layers I was getting a massive improvement over the neural net in excercise 3."
   ]
  },
  {
   "cell_type": "code",
   "execution_count": 159,
   "id": "twenty-rogers",
   "metadata": {
    "scrolled": true
   },
   "outputs": [
    {
     "name": "stdout",
     "output_type": "stream",
     "text": [
      "313/313 [==============================] - 15s 44ms/step\n"
     ]
    },
    {
     "data": {
      "text/plain": [
       "<sklearn.metrics._plot.confusion_matrix.ConfusionMatrixDisplay at 0x7fcca5664ed0>"
      ]
     },
     "execution_count": 159,
     "metadata": {},
     "output_type": "execute_result"
    },
    {
     "data": {
      "image/png": "[encoded data removed]",
      "text/plain": [
       "<Figure size 432x288 with 2 Axes>"
      ]
     },
     "metadata": {
      "needs_background": "light"
     },
     "output_type": "display_data"
    }
   ],
   "source": [
    "labels_map = {\n",
    "  0: 'Airplane',\n",
    "  1: 'Automobile',\n",
    "  2: 'Bird',\n",
    "  3: 'Cat',\n",
    "  4: 'Deer',\n",
    "  5: 'Dog',\n",
    "  6: 'Frog',\n",
    "  7: 'Horse',\n",
    "  8: 'Ship',\n",
    "  9: 'Truck',\n",
    "}\n",
    "\n",
    "import sklearn.metrics as metrics\n",
    "model=model2\n",
    "y_pred = model.predict(x_test)  \n",
    "\n",
    "y_pred_labels = np.argmax(y_pred, axis=1)  # only necessary if output has one-hot-encoding, shape=(n_samples)\n",
    "\n",
    "cm = metrics.confusion_matrix(y_true=np.argmax(y_test, axis=1), y_pred=y_pred_labels) \n",
    " \n",
    "disp = metrics.ConfusionMatrixDisplay(confusion_matrix=cm)\n",
    "disp.plot() "
   ]
  },
  {
   "cell_type": "markdown",
   "id": "expired-currency",
   "metadata": {},
   "source": [
    "From the confusion matrix we can see the biggest source is dogs(5) and cats(3) being misclassified as each other which makes sense due to their similarities.  Birds seem to be confused for other animals and airplanes quite often but not for automobiles or trucks which leads me to think the CNN is seeing the sharp lines of man made objects and able to distinguish from the animals but the blue background of ships and airplanes is enough to confuse since most of the other animals are not confused for any manmade objects very often.  "
   ]
  },
  {
   "cell_type": "code",
   "execution_count": 160,
   "id": "reflected-suspect",
   "metadata": {},
   "outputs": [
    {
     "name": "stdout",
     "output_type": "stream",
     "text": [
      "The Convolutional Neural Net Thinks its a: Horse\n",
      "The image is a: Horse\n",
      "The Convolutional Neural Net Thinks its a: Ship\n",
      "The image is a: Ship\n",
      "The Convolutional Neural Net Thinks its a: Automobile\n",
      "The image is a: Automobile\n"
     ]
    }
   ],
   "source": [
    "Z1=np.random.randint(10000)\n",
    "Z2=np.random.randint(10000)\n",
    "Z3=np.random.randint(10000)\n",
    "predicted_vector1 = model(np.expand_dims(x_test[Z1], axis=0))\n",
    "predicted_vector2 = model(np.expand_dims(x_test[Z2], axis=0))\n",
    "predicted_vector3 = model(np.expand_dims(x_test[Z3], axis=0))\n",
    "predicted_index1 = np.argmax(predicted_vector1)\n",
    "predicted_index2 = np.argmax(predicted_vector2)\n",
    "predicted_index3 = np.argmax(predicted_vector3)\n",
    "print (\"The Convolutional Neural Net Thinks its a:\",labels_map[predicted_index1])\n",
    "print (\"The image is a:\",labels_map[np.argmax(y_test[Z1])])\n",
    "print (\"The Convolutional Neural Net Thinks its a:\",labels_map[predicted_index2])\n",
    "print (\"The image is a:\",labels_map[np.argmax(y_test[Z2])])\n",
    "print (\"The Convolutional Neural Net Thinks its a:\",labels_map[predicted_index3])\n",
    "print (\"The image is a:\",labels_map[np.argmax(y_test[Z3])])"
   ]
  },
  {
   "cell_type": "code",
   "execution_count": null,
   "id": "immediate-malawi",
   "metadata": {},
   "outputs": [],
   "source": []
  },
  {
   "cell_type": "code",
   "execution_count": null,
   "id": "curious-timothy",
   "metadata": {},
   "outputs": [],
   "source": []
  }
 ],
 "metadata": {
  "kernelspec": {
   "display_name": "Python 3",
   "language": "python",
   "name": "python3"
  },
  "language_info": {
   "codemirror_mode": {
    "name": "ipython",
    "version": 3
   },
   "file_extension": ".py",
   "mimetype": "text/x-python",
   "name": "python",
   "nbconvert_exporter": "python",
   "pygments_lexer": "ipython3",
   "version": "3.7.9"
  }
 },
 "nbformat": 4,
 "nbformat_minor": 5
}
